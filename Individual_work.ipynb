{
  "nbformat": 4,
  "nbformat_minor": 0,
  "metadata": {
    "colab": {
      "provenance": [],
      "authorship_tag": "ABX9TyNAzEqFZMovvNnrmrKoPlaX",
      "include_colab_link": true
    },
    "kernelspec": {
      "name": "python3",
      "display_name": "Python 3"
    },
    "language_info": {
      "name": "python"
    }
  },
  "cells": [
    {
      "cell_type": "markdown",
      "metadata": {
        "id": "view-in-github",
        "colab_type": "text"
      },
      "source": [
        "<a href=\"https://colab.research.google.com/github/KSkendere/Phyton_Homework/blob/main/Individual_work.ipynb\" target=\"_parent\"><img src=\"https://colab.research.google.com/assets/colab-badge.svg\" alt=\"Open In Colab\"/></a>"
      ]
    },
    {
      "cell_type": "code",
      "execution_count": 14,
      "metadata": {
        "colab": {
          "base_uri": "https://localhost:8080/"
        },
        "id": "te7Qep1no5Qe",
        "outputId": "410a8cf4-ae84-4261-8b33-2e144451f8b3"
      },
      "outputs": [
        {
          "output_type": "stream",
          "name": "stdout",
          "text": [
            "There are number of clients: 0\n",
            "There are number of clients: 3\n",
            "There is client with name: Anna and id: 1\n",
            "Client Anna has  2 transactions\n",
            "Client Anna has made transaction on 2024-06-10 18:14:37.070450 with id 111, amount of transaction is 2.25\n",
            "There are 3 items in transaction:\n",
            "Eggs with price: 1.25.\n",
            "Bread with price: 0.5.\n",
            "Bread with price: 0.5.\n",
            "Client Anna has made transaction on 2024-06-10 18:14:37.070665 with id 222, amount of transaction is 100.0\n",
            "There are 1 items in transaction:\n",
            "Sweater with price: 100.\n",
            "There is client with name: Lauris and id: 2\n",
            "Client Lauris has  3 transactions\n",
            "Client Lauris has made transaction on 2024-06-10 18:14:37.070782 with id 333, amount of transaction is 14.25\n",
            "There are 4 items in transaction:\n",
            "Milk with price: 2.25.\n",
            "Candy with price: 5.5.\n",
            "Soda with price: 3.25.\n",
            "Soda with price: 3.25.\n",
            "Client Lauris has made transaction on 2024-06-10 18:14:37.071139 with id 444, amount of transaction is 65.99\n",
            "There are 1 items in transaction:\n",
            "Lamp with price: 65.99.\n",
            "Client Lauris has made transaction on 2024-06-10 18:14:37.071312 with id 555, amount of transaction is 89.99\n",
            "There are 1 items in transaction:\n",
            "Dress with price: 89.99.\n",
            "There is client with name: Janis and id: 3\n",
            "Client Janis has  1 transactions\n",
            "Client Janis has made transaction on 2024-06-10 18:14:37.071437 with id 666, amount of transaction is 242.7\n",
            "There are 2 items in transaction:\n",
            "Table with price: 121.35.\n",
            "Table with price: 121.35.\n"
          ]
        }
      ],
      "source": [
        "import datetime\n",
        "class Client:\n",
        "  number_of_clients = 0\n",
        "  def __init__(self,id,name):\n",
        "    self.id =id\n",
        "    self.name =name\n",
        "    self.transactions =[]\n",
        "    Client.number_of_clients+=1\n",
        "\n",
        "  def add_Transaction(self,transaction):\n",
        "    self.transactions.append(transaction)\n",
        "\n",
        "class Transaction:\n",
        "  def __init__(self, id):\n",
        "     self.id = id\n",
        "     self.time_stamp = datetime.datetime.now()\n",
        "     self.items =[]\n",
        "     self.amount =0.0\n",
        "\n",
        "  def add_item_to_transaction(self,name,price,number):\n",
        "     for x in range(number):\n",
        "      self.items.append(Item(name,price))\n",
        "      self.amount +=price\n",
        "\n",
        "  def delete_item_from_transaction(self,name,price,number):\n",
        "     for x in range(number):\n",
        "      for item in self.items:\n",
        "        if item.name==name and item.price==price:\n",
        "          self.items.remove(item)\n",
        "          self.amount -=price\n",
        "          break\n",
        "\n",
        "class Item:\n",
        "  def __init__(self, name, price):\n",
        "    self.name = name;\n",
        "    self.price = price;\n",
        "\n",
        "print(f'There are number of clients: {Client.number_of_clients}')\n",
        "clients = []\n",
        "clients.append(Client(1,\"Anna\"))\n",
        "clients.append(Client(2,\"Lauris\"))\n",
        "clients.append(Client(3,\"Janis\"))\n",
        "print(f'There are number of clients: {Client.number_of_clients}')\n",
        "\n",
        "clients[0].add_Transaction(Transaction(111));\n",
        "clients[0].transactions[0].add_item_to_transaction(\"Eggs\", 1.25,1)\n",
        "clients[0].transactions[0].add_item_to_transaction(\"Bread\", 0.50,2)\n",
        "clients[0].add_Transaction(Transaction(222))\n",
        "clients[0].transactions[1].add_item_to_transaction(\"Sweater\", 100,1);\n",
        "clients[1].add_Transaction(Transaction(333))\n",
        "clients[1].transactions[0].add_item_to_transaction(\"Milk\", 2.25,3)\n",
        "clients[1].transactions[0].add_item_to_transaction(\"Candy\", 5.50,1)\n",
        "clients[1].transactions[0].add_item_to_transaction(\"Soda\", 3.25,2)\n",
        "clients[1].transactions[0].delete_item_from_transaction(\"Milk\", 2.25,2);\n",
        "clients[1].add_Transaction(Transaction(444))\n",
        "clients[1].transactions[1].add_item_to_transaction(\"Lamp\", 65.99,2);\n",
        "clients[1].transactions[1].delete_item_from_transaction(\"Lamp\", 65.99,1);\n",
        "clients[1].add_Transaction(Transaction(555))\n",
        "clients[1].transactions[2].add_item_to_transaction(\"Dress\", 89.99,1);\n",
        "clients[2].add_Transaction(Transaction(666))\n",
        "clients[2].transactions[0].add_item_to_transaction(\"Table\", 121.35,2);\n",
        "clients[2].transactions[0].delete_item_from_transaction(\"Table\", 100.35,2);\n",
        "\n",
        "\n",
        "for client in clients:\n",
        "  print(f'There is client with name: {client.name} and id: {client.id}')\n",
        "  print(f'Client {client.name} has  {len(client.transactions)} transactions')\n",
        "  for transaction in client.transactions:\n",
        "    print(f'Client {client.name} has made transaction on {transaction.time_stamp} with id {transaction.id}, amount of transaction is {transaction.amount}')\n",
        "    print(f'There are {len(transaction.items) } items in transaction:')\n",
        "    for item in transaction.items:\n",
        "      print(f'{item.name} with price: {item.price}.')"
      ]
    },
    {
      "cell_type": "markdown",
      "source": [],
      "metadata": {
        "id": "RMXPj80TOnsg"
      }
    },
    {
      "cell_type": "code",
      "source": [],
      "metadata": {
        "id": "c-jfr5QjOoAv"
      },
      "execution_count": null,
      "outputs": []
    }
  ]
}